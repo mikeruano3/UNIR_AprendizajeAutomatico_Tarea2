{
 "cells": [
  {
   "cell_type": "markdown",
   "source": [
    "# Actividad 2: Clasificación con máquina de vectores de soporte y redes de neuronas\n",
    "### _Apellidos_: Ruano Roca, _Nombres_: Miguel Angel Omar"
   ],
   "metadata": {}
  },
  {
   "cell_type": "markdown",
   "source": [
    "1. Análisis descriptivo de los datos:\n",
    "- 1.1 De las variables numéricas, halla datos estadísticos.\n",
    "- 1.2 De las variables categóricas, lista las diferentes categorías y \n",
    "halla la frecuencia de cada una de ellas. \n",
    "- 1.3 Crea matriz de correlaciones existentes entre las \n",
    "variables numéricas del conjunto de datos, analiza los \n",
    "resultados. "
   ],
   "metadata": {}
  },
  {
   "cell_type": "code",
   "execution_count": 1,
   "source": [
    "import numpy as np\r\n",
    "import matplotlib.pyplot as plt"
   ],
   "outputs": [],
   "metadata": {}
  },
  {
   "cell_type": "markdown",
   "source": [
    "2. Aplica máquina de vectores de soporte y redes neuronales. \n",
    "- 2.1 Compara, mediante las medidas que te parezcan \n",
    "adecuadas, la capacidad predictiva de ambos métodos. \n",
    "- 2.2 Comenta las ventajas y desventajas de cada \n",
    "modelo. \n",
    "- 2.3 De acuerdo con los resultados, ¿son realmente útiles los \n",
    "modelos creados para el conjunto de datos propuesto?\n",
    "(Justificar en base a los resultados experimentales)\n",
    "- 2.4 Otros comentarios que consideres adecuados"
   ],
   "metadata": {}
  },
  {
   "cell_type": "code",
   "execution_count": null,
   "source": [],
   "outputs": [],
   "metadata": {}
  }
 ],
 "metadata": {
  "kernelspec": {
   "name": "python3",
   "display_name": "Python 3.8.8 64-bit"
  },
  "language_info": {
   "codemirror_mode": {
    "name": "ipython",
    "version": 3
   },
   "file_extension": ".py",
   "mimetype": "text/x-python",
   "name": "python",
   "nbconvert_exporter": "python",
   "pygments_lexer": "ipython3",
   "version": "3.8.8"
  },
  "interpreter": {
   "hash": "a90e753b758326c41c7ce19797fe4f8920a8ec4f36f181aab129d829cfacbd14"
  }
 },
 "nbformat": 4,
 "nbformat_minor": 5
}